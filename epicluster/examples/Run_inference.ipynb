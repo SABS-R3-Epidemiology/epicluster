{
 "cells": [
  {
   "cell_type": "markdown",
   "id": "d05c4860",
   "metadata": {},
   "source": [
    "## Example workflow notebook\n",
    "\n",
    "This notebook shows how to use the classes and functions provided by the `epicluster` package to run MCMC inference."
   ]
  },
  {
   "cell_type": "code",
   "execution_count": 1,
   "id": "8d6ff503",
   "metadata": {},
   "outputs": [],
   "source": [
    "import numpy as np\n",
    "import random\n",
    "import matplotlib.pyplot as plt\n",
    "import scipy.stats\n",
    "import pandas as pd\n",
    "import epicluster as ec"
   ]
  },
  {
   "cell_type": "code",
   "execution_count": 2,
   "id": "9e62bef8",
   "metadata": {},
   "outputs": [],
   "source": [
    "random.seed(100)\n",
    "np.random.seed(100)"
   ]
  },
  {
   "cell_type": "markdown",
   "id": "3b9723cc",
   "metadata": {},
   "source": [
    "Functions to generate synthetic case series."
   ]
  },
  {
   "cell_type": "code",
   "execution_count": 3,
   "id": "74ec8857",
   "metadata": {},
   "outputs": [],
   "source": [
    "def poisson_rvs(mu):\n",
    "    return scipy.stats.poisson.rvs(mu)\n",
    "\n",
    "def negativebinomial_rvs(mu, kappa, n=1):\n",
    "    n1 = kappa\n",
    "    p = float(kappa) / (kappa + mu)\n",
    "    return scipy.stats.nbinom.rvs(n1, p, 0, n)\n",
    "\n",
    "def expected_cases(Rt, past_cases, serial_interval):\n",
    "    if np.abs(sum(serial_interval) - 1) > 1e-6:\n",
    "        raise ValueError(\"Serial interval does not sum to 1.\")\n",
    "    return Rt * np.dot(past_cases, serial_interval)\n",
    "\n",
    "def next_cases(Rt, past_cases, serial_interval, kappa):\n",
    "    expectation = expected_cases(Rt, past_cases, serial_interval)\n",
    "    if kappa is not None:\n",
    "        return negativebinomial_rvs(expectation, kappa)\n",
    "    else:\n",
    "        return poisson_rvs(expectation)\n",
    "\n",
    "def generate_case_series(Rt_series, past_cases, serial_interval, kappa=None):\n",
    "    n_past_cases = len(past_cases)\n",
    "    if n_past_cases != len(serial_interval):\n",
    "        raise ValueError(\"Past cases must be of same length as serial interval.\")\n",
    "    series_len = len(Rt_series)\n",
    "    cases = np.zeros(series_len + n_past_cases)\n",
    "    cases[:n_past_cases] = past_cases\n",
    "    for i in range(series_len):\n",
    "        new_case_index = i + n_past_cases\n",
    "        historical_cases = cases[i:new_case_index]\n",
    "        historical_cases_rev = historical_cases[::-1]\n",
    "        cases[new_case_index] = next_cases(\n",
    "            Rt_series[i], historical_cases_rev, serial_interval, kappa)\n",
    "    cases_post_past = cases[n_past_cases:]\n",
    "    days = np.arange(1, len(cases_post_past) + 1)\n",
    "    df = pd.DataFrame(\n",
    "        {'day': days,\n",
    "        'cases': cases_post_past,\n",
    "        'Rt': Rt_series})\n",
    "    return df"
   ]
  },
  {
   "cell_type": "markdown",
   "id": "c8d965ad",
   "metadata": {},
   "source": [
    "Generate synthetic case series."
   ]
  },
  {
   "cell_type": "code",
   "execution_count": 4,
   "id": "7460f9d0",
   "metadata": {},
   "outputs": [
    {
     "data": {
      "image/png": "[encoded data removed]",
      "text/plain": [
       "<Figure size 432x288 with 1 Axes>"
      ]
     },
     "metadata": {
      "needs_background": "light"
     },
     "output_type": "display_data"
    }
   ],
   "source": [
    "# Use a gamma(2, 0.5) serial interval, which is obtained by discretising a continuous distribution.\n",
    "tmax = 20\n",
    "w_int = [scipy.stats.gamma.cdf(x, 2, scale=2) for x in range(tmax)]\n",
    "w = np.diff(w_int)\n",
    "serial_interval = w / sum(w)\n",
    "\n",
    "# pad with cases prior to t=0\n",
    "past_cases = np.zeros(len(w))\n",
    "past_cases[-1] = 5\n",
    "past_cases[-2] = 5\n",
    "past_cases[-3] = 5\n",
    "\n",
    "# split Rt series into two segments\n",
    "Rt_part_1 = np.repeat(1.3, 50)\n",
    "Rt_part_2 = np.repeat(0.8, 50)\n",
    "Rt_series = np.concatenate([Rt_part_1, Rt_part_2])\n",
    "\n",
    "# generate cases\n",
    "cases_df = generate_case_series(Rt_series, past_cases, serial_interval)\n",
    "cases = cases_df['cases']\n",
    "\n",
    "# plot cases\n",
    "plt.plot(cases_df[\"day\"], cases_df[\"cases\"])\n",
    "plt.xlabel(\"Day\")\n",
    "plt.ylabel(\"Cases\")\n",
    "plt.show()"
   ]
  },
  {
   "cell_type": "markdown",
   "id": "64b5d353",
   "metadata": {},
   "source": [
    "Run inference using 4 MCMC chains."
   ]
  },
  {
   "cell_type": "code",
   "execution_count": 5,
   "id": "b2bda9b1",
   "metadata": {},
   "outputs": [
    {
     "name": "stdout",
     "output_type": "stream",
     "text": [
      "Iter=50, Rhat=29.864354718341744\n",
      "Iter=100, Rhat=10.211902157140138\n",
      "Iter=150, Rhat=4.219810732127684\n",
      "Iter=200, Rhat=2.4435943584856363\n",
      "Iter=250, Rhat=1.269060477122429\n",
      "Iter=300, Rhat=1.050893307334828\n",
      "Converged 300 1.050893307334828\n"
     ]
    }
   ],
   "source": [
    "model = ec.PoissonModel(np.concatenate((past_cases, cases)), serial_interval)\n",
    "n_chains = 4\n",
    "posterior = ec.MCMCSampler(model, n_chains)\n",
    "params, assignments, sizes = posterior.run_mcmc(Rhat_thresh=1.1, progress=True)"
   ]
  },
  {
   "cell_type": "markdown",
   "id": "39ad4309",
   "metadata": {},
   "source": [
    "Extract the Rt value over time for each MCMC sample."
   ]
  },
  {
   "cell_type": "code",
   "execution_count": 6,
   "id": "e7726571",
   "metadata": {},
   "outputs": [],
   "source": [
    "R_profiles = []\n",
    "for R, z in zip(params, assignments):\n",
    "    R_profiles.append([R[zi] for zi in z])\n",
    "num_mcmc_samples = len(R_profiles)"
   ]
  },
  {
   "cell_type": "markdown",
   "id": "9d5c71c4",
   "metadata": {},
   "source": [
    "Plot the draws of Rt profiles (only for the second half of the MCMC chain), their mean and the true Rt series."
   ]
  },
  {
   "cell_type": "code",
   "execution_count": 7,
   "id": "020988be",
   "metadata": {},
   "outputs": [
    {
     "data": {
      "image/png": "[encoded data removed]",
      "text/plain": [
       "<Figure size 432x288 with 1 Axes>"
      ]
     },
     "metadata": {
      "needs_background": "light"
     },
     "output_type": "display_data"
    }
   ],
   "source": [
    "for i in range(num_mcmc_samples//2, num_mcmc_samples):\n",
    "    plt.plot(cases_df[\"day\"],\n",
    "             R_profiles[i],\n",
    "             'k',\n",
    "             alpha=0.05,\n",
    "             label='MCMC draw' if i==num_mcmc_samples//2 else None)\n",
    "    \n",
    "plt.plot(cases_df[\"day\"], np.mean(R_profiles[num_mcmc_samples//2:], axis=0), 'm', lw=3, label='Posterior mean')\n",
    "plt.plot(cases_df[\"day\"], cases_df[\"Rt\"], 'b--', label='True Rt')\n",
    "\n",
    "plt.legend()\n",
    "plt.xlabel(\"Day\")\n",
    "plt.ylabel(\"Rt\")\n",
    "plt.show()"
   ]
  },
  {
   "cell_type": "code",
   "execution_count": null,
   "id": "71f6aa10",
   "metadata": {},
   "outputs": [],
   "source": []
  }
 ],
 "metadata": {
  "kernelspec": {
   "display_name": "Python 3 (ipykernel)",
   "language": "python",
   "name": "python3"
  },
  "language_info": {
   "codemirror_mode": {
    "name": "ipython",
    "version": 3
   },
   "file_extension": ".py",
   "mimetype": "text/x-python",
   "name": "python",
   "nbconvert_exporter": "python",
   "pygments_lexer": "ipython3",
   "version": "3.9.7"
  }
 },
 "nbformat": 4,
 "nbformat_minor": 5
}
